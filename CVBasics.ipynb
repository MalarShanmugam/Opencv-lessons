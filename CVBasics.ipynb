{
 "cells": [
  {
   "cell_type": "code",
   "execution_count": 1,
   "id": "f01687cf",
   "metadata": {},
   "outputs": [],
   "source": [
    "import cv2\n",
    "import os\n",
    "import numpy as np"
   ]
  },
  {
   "cell_type": "markdown",
   "id": "548219eb",
   "metadata": {},
   "source": [
    "# Loading and Displaying Image"
   ]
  },
  {
   "cell_type": "code",
   "execution_count": 2,
   "id": "575e4877",
   "metadata": {},
   "outputs": [],
   "source": [
    "Img=cv2.imread('cv.jpg')\n"
   ]
  },
  {
   "cell_type": "code",
   "execution_count": 3,
   "id": "59610afc",
   "metadata": {},
   "outputs": [],
   "source": [
    "cv2.imshow('tab',Img)\n",
    "cv2.waitKey()\n",
    "cv2.destroyAllWindows()"
   ]
  },
  {
   "cell_type": "markdown",
   "id": "0e8fedab",
   "metadata": {},
   "source": [
    "# Saving Image"
   ]
  },
  {
   "cell_type": "code",
   "execution_count": 4,
   "id": "f77c898c",
   "metadata": {},
   "outputs": [
    {
     "data": {
      "text/plain": [
       "True"
      ]
     },
     "execution_count": 4,
     "metadata": {},
     "output_type": "execute_result"
    }
   ],
   "source": [
    "cv2.imwrite('output/out_img.png',Img)"
   ]
  },
  {
   "cell_type": "code",
   "execution_count": 5,
   "id": "4bfee4f4",
   "metadata": {},
   "outputs": [],
   "source": [
    "new_img=cv2.imread('output/out_img.png')"
   ]
  },
  {
   "cell_type": "code",
   "execution_count": 6,
   "id": "44d570a1",
   "metadata": {},
   "outputs": [],
   "source": [
    "cv2.imshow('new image',new_img)\n",
    "cv2.waitKey()\n",
    "cv2.destroyAllWindows()"
   ]
  },
  {
   "cell_type": "markdown",
   "id": "da78671f",
   "metadata": {},
   "source": [
    "# Accessing pixels in Image"
   ]
  },
  {
   "cell_type": "code",
   "execution_count": 7,
   "id": "ac81d659",
   "metadata": {},
   "outputs": [
    {
     "data": {
      "text/plain": [
       "(720, 1280, 3)"
      ]
     },
     "execution_count": 7,
     "metadata": {},
     "output_type": "execute_result"
    }
   ],
   "source": [
    "Img.shape"
   ]
  },
  {
   "cell_type": "code",
   "execution_count": 8,
   "id": "9499c3f5",
   "metadata": {},
   "outputs": [],
   "source": [
    "Img[:200,:500,:]=0"
   ]
  },
  {
   "cell_type": "code",
   "execution_count": 9,
   "id": "cf01ffed",
   "metadata": {},
   "outputs": [],
   "source": [
    "cv2.imshow('new',Img)\n",
    "cv2.waitKey()\n",
    "cv2.destroyAllWindows()"
   ]
  },
  {
   "cell_type": "code",
   "execution_count": 10,
   "id": "258ada51",
   "metadata": {},
   "outputs": [],
   "source": [
    "img_crop=new_img[400:,200:500]"
   ]
  },
  {
   "cell_type": "code",
   "execution_count": 11,
   "id": "e6456bc0",
   "metadata": {},
   "outputs": [],
   "source": [
    "cv2.imshow('cropped',img_crop)\n",
    "cv2.waitKey()\n",
    "cv2.destroyAllWindows()"
   ]
  },
  {
   "cell_type": "code",
   "execution_count": 12,
   "id": "1c668203",
   "metadata": {},
   "outputs": [],
   "source": [
    "new_img[:,:,0]=255\n",
    "new_img[:,:,1]=255\n",
    "new_img[:,:,2]=0"
   ]
  },
  {
   "cell_type": "code",
   "execution_count": 13,
   "id": "534c4834",
   "metadata": {},
   "outputs": [],
   "source": [
    "cv2.imshow('cropped',new_img)\n",
    "cv2.waitKey()\n",
    "cv2.destroyAllWindows()"
   ]
  },
  {
   "cell_type": "markdown",
   "id": "e9e51a92",
   "metadata": {},
   "source": [
    "# Drawing on Images"
   ]
  },
  {
   "cell_type": "code",
   "execution_count": 14,
   "id": "fc35b76b",
   "metadata": {},
   "outputs": [],
   "source": [
    "canvas=np.ones((500,500,3),dtype='uint8')\n",
    "canvas[:,:,:]=255"
   ]
  },
  {
   "cell_type": "code",
   "execution_count": 15,
   "id": "baf394b4",
   "metadata": {},
   "outputs": [],
   "source": [
    "cv2.imshow('cropped',canvas)\n",
    "cv2.waitKey()\n",
    "cv2.destroyAllWindows()"
   ]
  },
  {
   "cell_type": "code",
   "execution_count": 17,
   "id": "bd84a08d",
   "metadata": {},
   "outputs": [
    {
     "data": {
      "text/plain": [
       "array([[[255,   0,   0],\n",
       "        [255,   0,   0],\n",
       "        [255,   0,   0],\n",
       "        ...,\n",
       "        [255, 255, 255],\n",
       "        [255, 255, 255],\n",
       "        [255, 255, 255]],\n",
       "\n",
       "       [[255,   0,   0],\n",
       "        [255,   0,   0],\n",
       "        [255,   0,   0],\n",
       "        ...,\n",
       "        [255, 255, 255],\n",
       "        [255, 255, 255],\n",
       "        [255, 255, 255]],\n",
       "\n",
       "       [[255,   0,   0],\n",
       "        [255,   0,   0],\n",
       "        [255,   0,   0],\n",
       "        ...,\n",
       "        [255, 255, 255],\n",
       "        [255, 255, 255],\n",
       "        [255, 255, 255]],\n",
       "\n",
       "       ...,\n",
       "\n",
       "       [[255, 255, 255],\n",
       "        [255, 255, 255],\n",
       "        [255, 255, 255],\n",
       "        ...,\n",
       "        [255,   0,   0],\n",
       "        [255,   0,   0],\n",
       "        [255,   0,   0]],\n",
       "\n",
       "       [[255, 255, 255],\n",
       "        [255, 255, 255],\n",
       "        [255, 255, 255],\n",
       "        ...,\n",
       "        [255,   0,   0],\n",
       "        [255,   0,   0],\n",
       "        [255,   0,   0]],\n",
       "\n",
       "       [[255, 255, 255],\n",
       "        [255, 255, 255],\n",
       "        [255, 255, 255],\n",
       "        ...,\n",
       "        [255,   0,   0],\n",
       "        [255,   0,   0],\n",
       "        [255,   0,   0]]], dtype=uint8)"
      ]
     },
     "execution_count": 17,
     "metadata": {},
     "output_type": "execute_result"
    }
   ],
   "source": [
    "red=(255,0,0)\n",
    "cv2.line(canvas,(0,0),(500,500),red,5)"
   ]
  },
  {
   "cell_type": "code",
   "execution_count": 18,
   "id": "510d52da",
   "metadata": {},
   "outputs": [],
   "source": [
    "cv2.imshow('tab', canvas)\n",
    "cv2.waitKey()\n",
    "cv2.destroyAllWindows()"
   ]
  },
  {
   "cell_type": "code",
   "execution_count": 29,
   "id": "cddd9c39",
   "metadata": {},
   "outputs": [
    {
     "data": {
      "text/plain": [
       "array([[[  0, 255,   0],\n",
       "        [  0, 255,   0],\n",
       "        [  0, 255,   0],\n",
       "        ...,\n",
       "        [  0, 255,   0],\n",
       "        [  0, 255,   0],\n",
       "        [  0, 255,   0]],\n",
       "\n",
       "       [[  0, 255,   0],\n",
       "        [  0, 255,   0],\n",
       "        [  0, 255,   0],\n",
       "        ...,\n",
       "        [  0, 255,   0],\n",
       "        [  0, 255,   0],\n",
       "        [  0, 255,   0]],\n",
       "\n",
       "       [[  0, 255,   0],\n",
       "        [  0, 255,   0],\n",
       "        [  0, 255,   0],\n",
       "        ...,\n",
       "        [  0, 255,   0],\n",
       "        [  0, 255,   0],\n",
       "        [  0, 255,   0]],\n",
       "\n",
       "       ...,\n",
       "\n",
       "       [[  0, 255,   0],\n",
       "        [  0, 255,   0],\n",
       "        [  0, 255,   0],\n",
       "        ...,\n",
       "        [  0, 255,   0],\n",
       "        [  0, 255,   0],\n",
       "        [  0, 255,   0]],\n",
       "\n",
       "       [[  0, 255,   0],\n",
       "        [  0, 255,   0],\n",
       "        [  0, 255,   0],\n",
       "        ...,\n",
       "        [  0, 255,   0],\n",
       "        [  0, 255,   0],\n",
       "        [  0, 255,   0]],\n",
       "\n",
       "       [[  0, 255,   0],\n",
       "        [  0, 255,   0],\n",
       "        [  0, 255,   0],\n",
       "        ...,\n",
       "        [  0, 255,   0],\n",
       "        [  0, 255,   0],\n",
       "        [  0, 255,   0]]], dtype=uint8)"
      ]
     },
     "execution_count": 29,
     "metadata": {},
     "output_type": "execute_result"
    }
   ],
   "source": [
    "green=(0,255,0)\n",
    "cv2.rectangle(canvas,(0,0),(500,500),green,5)"
   ]
  },
  {
   "cell_type": "code",
   "execution_count": 30,
   "id": "ec7e9621",
   "metadata": {},
   "outputs": [],
   "source": [
    "cv2.imshow('tab', canvas)\n",
    "cv2.waitKey()\n",
    "cv2.destroyAllWindows()"
   ]
  },
  {
   "cell_type": "code",
   "execution_count": 33,
   "id": "53b32ef1",
   "metadata": {},
   "outputs": [
    {
     "data": {
      "text/plain": [
       "array([[[  0, 255,   0],\n",
       "        [  0, 255,   0],\n",
       "        [  0, 255,   0],\n",
       "        ...,\n",
       "        [  0, 255,   0],\n",
       "        [  0, 255,   0],\n",
       "        [  0, 255,   0]],\n",
       "\n",
       "       [[  0, 255,   0],\n",
       "        [  0, 255,   0],\n",
       "        [  0, 255,   0],\n",
       "        ...,\n",
       "        [  0, 255,   0],\n",
       "        [  0, 255,   0],\n",
       "        [  0, 255,   0]],\n",
       "\n",
       "       [[  0, 255,   0],\n",
       "        [  0, 255,   0],\n",
       "        [  0, 255,   0],\n",
       "        ...,\n",
       "        [  0, 255,   0],\n",
       "        [  0, 255,   0],\n",
       "        [  0, 255,   0]],\n",
       "\n",
       "       ...,\n",
       "\n",
       "       [[  0, 255,   0],\n",
       "        [  0, 255,   0],\n",
       "        [  0, 255,   0],\n",
       "        ...,\n",
       "        [  0, 255,   0],\n",
       "        [  0, 255,   0],\n",
       "        [  0, 255,   0]],\n",
       "\n",
       "       [[  0, 255,   0],\n",
       "        [  0, 255,   0],\n",
       "        [  0, 255,   0],\n",
       "        ...,\n",
       "        [  0, 255,   0],\n",
       "        [  0, 255,   0],\n",
       "        [  0, 255,   0]],\n",
       "\n",
       "       [[  0, 255,   0],\n",
       "        [  0, 255,   0],\n",
       "        [  0, 255,   0],\n",
       "        ...,\n",
       "        [  0, 255,   0],\n",
       "        [  0, 255,   0],\n",
       "        [  0, 255,   0]]], dtype=uint8)"
      ]
     },
     "execution_count": 33,
     "metadata": {},
     "output_type": "execute_result"
    }
   ],
   "source": [
    "blue=(0,0,255)\n",
    "cv2.ellipse(canvas,(250,250),(100,100),45,0,360,blue)"
   ]
  },
  {
   "cell_type": "code",
   "execution_count": 34,
   "id": "56a03a95",
   "metadata": {},
   "outputs": [],
   "source": [
    "cv2.imshow('tab', canvas)\n",
    "cv2.waitKey()\n",
    "cv2.destroyAllWindows()"
   ]
  },
  {
   "cell_type": "markdown",
   "id": "92073001",
   "metadata": {},
   "source": [
    "# Image Transformation"
   ]
  },
  {
   "cell_type": "code",
   "execution_count": 2,
   "id": "f8f14b26",
   "metadata": {},
   "outputs": [],
   "source": [
    "img=cv2.imread('test.jpg')"
   ]
  },
  {
   "cell_type": "code",
   "execution_count": 3,
   "id": "34ee5a65",
   "metadata": {},
   "outputs": [],
   "source": [
    "cv2.imshow('tab', img)\n",
    "cv2.waitKey()\n",
    "cv2.destroyAllWindows()"
   ]
  },
  {
   "cell_type": "code",
   "execution_count": 4,
   "id": "6b2f3872",
   "metadata": {},
   "outputs": [],
   "source": [
    "rows,col,ch=img.shape"
   ]
  },
  {
   "cell_type": "code",
   "execution_count": 8,
   "id": "05626660",
   "metadata": {},
   "outputs": [],
   "source": [
    "pts1 = np.float32([[50, 50],\n",
    "                   [200, 50], \n",
    "                   [50, 200]])\n",
    "  \n",
    "pts2 = np.float32([[10, 100],\n",
    "                   [200, 50], \n",
    "                   [100, 250]])\n",
    "  \n",
    "M = cv2.getAffineTransform(pts1, pts2)"
   ]
  },
  {
   "cell_type": "code",
   "execution_count": 9,
   "id": "e70c19c9",
   "metadata": {},
   "outputs": [],
   "source": [
    "#M=np.float32([[50,0,10],[10,0,100]])"
   ]
  },
  {
   "cell_type": "code",
   "execution_count": 10,
   "id": "01c8328d",
   "metadata": {},
   "outputs": [],
   "source": [
    "shifted=cv2.warpAffine(img,M,(col,rows))"
   ]
  },
  {
   "cell_type": "code",
   "execution_count": 12,
   "id": "2432092c",
   "metadata": {},
   "outputs": [],
   "source": [
    "cv2.imshow('tab', shifted)\n",
    "cv2.waitKey()\n",
    "cv2.destroyAllWindows()"
   ]
  },
  {
   "cell_type": "code",
   "execution_count": null,
   "id": "8b8007eb",
   "metadata": {},
   "outputs": [],
   "source": []
  }
 ],
 "metadata": {
  "kernelspec": {
   "display_name": "Python 3",
   "language": "python",
   "name": "python3"
  },
  "language_info": {
   "codemirror_mode": {
    "name": "ipython",
    "version": 3
   },
   "file_extension": ".py",
   "mimetype": "text/x-python",
   "name": "python",
   "nbconvert_exporter": "python",
   "pygments_lexer": "ipython3",
   "version": "3.6.9"
  }
 },
 "nbformat": 4,
 "nbformat_minor": 5
}
