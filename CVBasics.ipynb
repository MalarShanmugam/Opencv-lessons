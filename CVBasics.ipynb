{
 "cells": [
  {
   "cell_type": "code",
   "execution_count": 42,
   "id": "f01687cf",
   "metadata": {},
   "outputs": [],
   "source": [
    "import cv2\n",
    "import os\n",
    "import numpy as np\n",
    "%config Completer.use_jedi = False"
   ]
  },
  {
   "cell_type": "markdown",
   "id": "548219eb",
   "metadata": {},
   "source": [
    "# Loading and Displaying Image"
   ]
  },
  {
   "cell_type": "code",
   "execution_count": 3,
   "id": "575e4877",
   "metadata": {},
   "outputs": [],
   "source": [
    "Img=cv2.imread('Data/cv.jpg')\n"
   ]
  },
  {
   "cell_type": "code",
   "execution_count": 4,
   "id": "59610afc",
   "metadata": {},
   "outputs": [],
   "source": [
    "cv2.imshow('tab',Img)\n",
    "cv2.waitKey()\n",
    "cv2.destroyAllWindows()"
   ]
  },
  {
   "cell_type": "markdown",
   "id": "0e8fedab",
   "metadata": {},
   "source": [
    "# Saving Image"
   ]
  },
  {
   "cell_type": "code",
   "execution_count": 5,
   "id": "f77c898c",
   "metadata": {},
   "outputs": [
    {
     "data": {
      "text/plain": [
       "True"
      ]
     },
     "execution_count": 5,
     "metadata": {},
     "output_type": "execute_result"
    }
   ],
   "source": [
    "cv2.imwrite('output/out_img.png',Img)"
   ]
  },
  {
   "cell_type": "code",
   "execution_count": 6,
   "id": "4bfee4f4",
   "metadata": {},
   "outputs": [],
   "source": [
    "new_img=cv2.imread('output/out_img.png')"
   ]
  },
  {
   "cell_type": "code",
   "execution_count": 7,
   "id": "44d570a1",
   "metadata": {},
   "outputs": [],
   "source": [
    "cv2.imshow('new image',new_img)\n",
    "cv2.waitKey()\n",
    "cv2.destroyAllWindows()"
   ]
  },
  {
   "cell_type": "markdown",
   "id": "da78671f",
   "metadata": {},
   "source": [
    "# Accessing pixels in Image"
   ]
  },
  {
   "cell_type": "code",
   "execution_count": 8,
   "id": "ac81d659",
   "metadata": {},
   "outputs": [
    {
     "data": {
      "text/plain": [
       "(720, 1280, 3)"
      ]
     },
     "execution_count": 8,
     "metadata": {},
     "output_type": "execute_result"
    }
   ],
   "source": [
    "Img.shape"
   ]
  },
  {
   "cell_type": "code",
   "execution_count": 9,
   "id": "9499c3f5",
   "metadata": {},
   "outputs": [],
   "source": [
    "Img[:200,:500,:]=0"
   ]
  },
  {
   "cell_type": "code",
   "execution_count": 10,
   "id": "cf01ffed",
   "metadata": {},
   "outputs": [],
   "source": [
    "cv2.imshow('new',Img)\n",
    "cv2.waitKey()\n",
    "cv2.destroyAllWindows()"
   ]
  },
  {
   "cell_type": "code",
   "execution_count": 11,
   "id": "258ada51",
   "metadata": {},
   "outputs": [],
   "source": [
    "img_crop=new_img[400:,200:500]"
   ]
  },
  {
   "cell_type": "code",
   "execution_count": 12,
   "id": "e6456bc0",
   "metadata": {},
   "outputs": [],
   "source": [
    "cv2.imshow('cropped',img_crop)\n",
    "cv2.waitKey()\n",
    "cv2.destroyAllWindows()"
   ]
  },
  {
   "cell_type": "code",
   "execution_count": 13,
   "id": "1c668203",
   "metadata": {},
   "outputs": [],
   "source": [
    "new_img[:,:,0]=255\n",
    "new_img[:,:,1]=255\n",
    "new_img[:,:,2]=0"
   ]
  },
  {
   "cell_type": "code",
   "execution_count": 14,
   "id": "534c4834",
   "metadata": {},
   "outputs": [],
   "source": [
    "cv2.imshow('cropped',new_img)\n",
    "cv2.waitKey()\n",
    "cv2.destroyAllWindows()"
   ]
  },
  {
   "cell_type": "markdown",
   "id": "e9e51a92",
   "metadata": {},
   "source": [
    "# Drawing on Images"
   ]
  },
  {
   "cell_type": "code",
   "execution_count": 15,
   "id": "fc35b76b",
   "metadata": {},
   "outputs": [],
   "source": [
    "canvas=np.ones((500,500,3),dtype='uint8')\n",
    "canvas[:,:,:]=255"
   ]
  },
  {
   "cell_type": "code",
   "execution_count": 16,
   "id": "baf394b4",
   "metadata": {},
   "outputs": [],
   "source": [
    "cv2.imshow('cropped',canvas)\n",
    "cv2.waitKey()\n",
    "cv2.destroyAllWindows()"
   ]
  },
  {
   "cell_type": "code",
   "execution_count": 17,
   "id": "bd84a08d",
   "metadata": {},
   "outputs": [
    {
     "data": {
      "text/plain": [
       "array([[[255,   0,   0],\n",
       "        [255,   0,   0],\n",
       "        [255,   0,   0],\n",
       "        ...,\n",
       "        [255, 255, 255],\n",
       "        [255, 255, 255],\n",
       "        [255, 255, 255]],\n",
       "\n",
       "       [[255,   0,   0],\n",
       "        [255,   0,   0],\n",
       "        [255,   0,   0],\n",
       "        ...,\n",
       "        [255, 255, 255],\n",
       "        [255, 255, 255],\n",
       "        [255, 255, 255]],\n",
       "\n",
       "       [[255,   0,   0],\n",
       "        [255,   0,   0],\n",
       "        [255,   0,   0],\n",
       "        ...,\n",
       "        [255, 255, 255],\n",
       "        [255, 255, 255],\n",
       "        [255, 255, 255]],\n",
       "\n",
       "       ...,\n",
       "\n",
       "       [[255, 255, 255],\n",
       "        [255, 255, 255],\n",
       "        [255, 255, 255],\n",
       "        ...,\n",
       "        [255,   0,   0],\n",
       "        [255,   0,   0],\n",
       "        [255,   0,   0]],\n",
       "\n",
       "       [[255, 255, 255],\n",
       "        [255, 255, 255],\n",
       "        [255, 255, 255],\n",
       "        ...,\n",
       "        [255,   0,   0],\n",
       "        [255,   0,   0],\n",
       "        [255,   0,   0]],\n",
       "\n",
       "       [[255, 255, 255],\n",
       "        [255, 255, 255],\n",
       "        [255, 255, 255],\n",
       "        ...,\n",
       "        [255,   0,   0],\n",
       "        [255,   0,   0],\n",
       "        [255,   0,   0]]], dtype=uint8)"
      ]
     },
     "execution_count": 17,
     "metadata": {},
     "output_type": "execute_result"
    }
   ],
   "source": [
    "red=(255,0,0)\n",
    "cv2.line(canvas,(0,0),(500,500),red,5)"
   ]
  },
  {
   "cell_type": "code",
   "execution_count": 18,
   "id": "510d52da",
   "metadata": {},
   "outputs": [],
   "source": [
    "cv2.imshow('tab', canvas)\n",
    "cv2.waitKey()\n",
    "cv2.destroyAllWindows()"
   ]
  },
  {
   "cell_type": "code",
   "execution_count": 19,
   "id": "cddd9c39",
   "metadata": {},
   "outputs": [
    {
     "data": {
      "text/plain": [
       "array([[[  0, 255,   0],\n",
       "        [  0, 255,   0],\n",
       "        [  0, 255,   0],\n",
       "        ...,\n",
       "        [  0, 255,   0],\n",
       "        [  0, 255,   0],\n",
       "        [  0, 255,   0]],\n",
       "\n",
       "       [[  0, 255,   0],\n",
       "        [  0, 255,   0],\n",
       "        [  0, 255,   0],\n",
       "        ...,\n",
       "        [  0, 255,   0],\n",
       "        [  0, 255,   0],\n",
       "        [  0, 255,   0]],\n",
       "\n",
       "       [[  0, 255,   0],\n",
       "        [  0, 255,   0],\n",
       "        [  0, 255,   0],\n",
       "        ...,\n",
       "        [  0, 255,   0],\n",
       "        [  0, 255,   0],\n",
       "        [  0, 255,   0]],\n",
       "\n",
       "       ...,\n",
       "\n",
       "       [[  0, 255,   0],\n",
       "        [  0, 255,   0],\n",
       "        [  0, 255,   0],\n",
       "        ...,\n",
       "        [  0, 255,   0],\n",
       "        [  0, 255,   0],\n",
       "        [  0, 255,   0]],\n",
       "\n",
       "       [[  0, 255,   0],\n",
       "        [  0, 255,   0],\n",
       "        [  0, 255,   0],\n",
       "        ...,\n",
       "        [  0, 255,   0],\n",
       "        [  0, 255,   0],\n",
       "        [  0, 255,   0]],\n",
       "\n",
       "       [[  0, 255,   0],\n",
       "        [  0, 255,   0],\n",
       "        [  0, 255,   0],\n",
       "        ...,\n",
       "        [  0, 255,   0],\n",
       "        [  0, 255,   0],\n",
       "        [  0, 255,   0]]], dtype=uint8)"
      ]
     },
     "execution_count": 19,
     "metadata": {},
     "output_type": "execute_result"
    }
   ],
   "source": [
    "green=(0,255,0)\n",
    "cv2.rectangle(canvas,(0,0),(500,500),green,5)"
   ]
  },
  {
   "cell_type": "code",
   "execution_count": 20,
   "id": "ec7e9621",
   "metadata": {},
   "outputs": [],
   "source": [
    "cv2.imshow('tab', canvas)\n",
    "cv2.waitKey()\n",
    "cv2.destroyAllWindows()"
   ]
  },
  {
   "cell_type": "code",
   "execution_count": 21,
   "id": "53b32ef1",
   "metadata": {},
   "outputs": [
    {
     "data": {
      "text/plain": [
       "array([[[  0, 255,   0],\n",
       "        [  0, 255,   0],\n",
       "        [  0, 255,   0],\n",
       "        ...,\n",
       "        [  0, 255,   0],\n",
       "        [  0, 255,   0],\n",
       "        [  0, 255,   0]],\n",
       "\n",
       "       [[  0, 255,   0],\n",
       "        [  0, 255,   0],\n",
       "        [  0, 255,   0],\n",
       "        ...,\n",
       "        [  0, 255,   0],\n",
       "        [  0, 255,   0],\n",
       "        [  0, 255,   0]],\n",
       "\n",
       "       [[  0, 255,   0],\n",
       "        [  0, 255,   0],\n",
       "        [  0, 255,   0],\n",
       "        ...,\n",
       "        [  0, 255,   0],\n",
       "        [  0, 255,   0],\n",
       "        [  0, 255,   0]],\n",
       "\n",
       "       ...,\n",
       "\n",
       "       [[  0, 255,   0],\n",
       "        [  0, 255,   0],\n",
       "        [  0, 255,   0],\n",
       "        ...,\n",
       "        [  0, 255,   0],\n",
       "        [  0, 255,   0],\n",
       "        [  0, 255,   0]],\n",
       "\n",
       "       [[  0, 255,   0],\n",
       "        [  0, 255,   0],\n",
       "        [  0, 255,   0],\n",
       "        ...,\n",
       "        [  0, 255,   0],\n",
       "        [  0, 255,   0],\n",
       "        [  0, 255,   0]],\n",
       "\n",
       "       [[  0, 255,   0],\n",
       "        [  0, 255,   0],\n",
       "        [  0, 255,   0],\n",
       "        ...,\n",
       "        [  0, 255,   0],\n",
       "        [  0, 255,   0],\n",
       "        [  0, 255,   0]]], dtype=uint8)"
      ]
     },
     "execution_count": 21,
     "metadata": {},
     "output_type": "execute_result"
    }
   ],
   "source": [
    "blue=(0,0,255)\n",
    "cv2.ellipse(canvas,(250,250),(100,100),45,0,360,blue)"
   ]
  },
  {
   "cell_type": "code",
   "execution_count": 22,
   "id": "56a03a95",
   "metadata": {},
   "outputs": [],
   "source": [
    "cv2.imshow('tab', canvas)\n",
    "cv2.waitKey()\n",
    "cv2.destroyAllWindows()"
   ]
  },
  {
   "cell_type": "markdown",
   "id": "92073001",
   "metadata": {},
   "source": [
    "# Image Transformation"
   ]
  },
  {
   "cell_type": "markdown",
   "id": "faff685c",
   "metadata": {},
   "source": [
    "## Translation"
   ]
  },
  {
   "cell_type": "code",
   "execution_count": 23,
   "id": "f8f14b26",
   "metadata": {},
   "outputs": [],
   "source": [
    "img=cv2.imread('Data/test.jpg')"
   ]
  },
  {
   "cell_type": "code",
   "execution_count": 24,
   "id": "34ee5a65",
   "metadata": {},
   "outputs": [],
   "source": [
    "cv2.imshow('tab', img)\n",
    "cv2.waitKey()\n",
    "cv2.destroyAllWindows()"
   ]
  },
  {
   "cell_type": "code",
   "execution_count": 25,
   "id": "6b2f3872",
   "metadata": {},
   "outputs": [],
   "source": [
    "rows,col,ch=img.shape"
   ]
  },
  {
   "cell_type": "code",
   "execution_count": 26,
   "id": "05626660",
   "metadata": {},
   "outputs": [],
   "source": [
    "pts1 = np.float32([[50, 50],\n",
    "                   [200, 50], \n",
    "                   [50, 200]])\n",
    "  \n",
    "pts2 = np.float32([[10, 100],\n",
    "                   [200, 50], \n",
    "                   [100, 250]])\n",
    "  \n",
    "M = cv2.getAffineTransform(pts1, pts2)"
   ]
  },
  {
   "cell_type": "code",
   "execution_count": 27,
   "id": "e70c19c9",
   "metadata": {},
   "outputs": [],
   "source": [
    "#M=np.float32([[50,0,10],[10,0,100]])"
   ]
  },
  {
   "cell_type": "code",
   "execution_count": 28,
   "id": "01c8328d",
   "metadata": {},
   "outputs": [],
   "source": [
    "shifted=cv2.warpAffine(img,M,(col,rows))"
   ]
  },
  {
   "cell_type": "code",
   "execution_count": 29,
   "id": "2432092c",
   "metadata": {},
   "outputs": [],
   "source": [
    "cv2.imshow('tab', shifted)\n",
    "cv2.waitKey()\n",
    "cv2.destroyAllWindows()"
   ]
  },
  {
   "cell_type": "markdown",
   "id": "f7d3299e",
   "metadata": {},
   "source": [
    "## Flip"
   ]
  },
  {
   "cell_type": "code",
   "execution_count": 78,
   "id": "b6ee69a1",
   "metadata": {},
   "outputs": [],
   "source": [
    "img=cv2.imread('Data/cv.jpg')"
   ]
  },
  {
   "cell_type": "code",
   "execution_count": 79,
   "id": "7edf94b2",
   "metadata": {},
   "outputs": [],
   "source": [
    "cv2.imshow('tab',img)\n",
    "cv2.waitKey()\n",
    "cv2.destroyAllWindows()"
   ]
  },
  {
   "cell_type": "code",
   "execution_count": 32,
   "id": "f2728629",
   "metadata": {},
   "outputs": [],
   "source": [
    "flip_img=cv2.flip(img,0)"
   ]
  },
  {
   "cell_type": "code",
   "execution_count": 33,
   "id": "0b81ec8c",
   "metadata": {},
   "outputs": [],
   "source": [
    "cv2.imshow('tab',flip_img)\n",
    "cv2.waitKey()\n",
    "cv2.destroyAllWindows()"
   ]
  },
  {
   "cell_type": "code",
   "execution_count": 34,
   "id": "a09ad1f3",
   "metadata": {},
   "outputs": [],
   "source": [
    "flip_img1=cv2.flip(img,-1)"
   ]
  },
  {
   "cell_type": "code",
   "execution_count": 35,
   "id": "fda95670",
   "metadata": {},
   "outputs": [],
   "source": [
    "cv2.imshow('tab',flip_img1)\n",
    "cv2.waitKey()\n",
    "cv2.destroyAllWindows()"
   ]
  },
  {
   "cell_type": "markdown",
   "id": "68b0207a",
   "metadata": {},
   "source": [
    "## Resize"
   ]
  },
  {
   "cell_type": "code",
   "execution_count": 36,
   "id": "36bc04a3",
   "metadata": {},
   "outputs": [],
   "source": [
    "scaled=cv2.resize(img,(400,400),fx=2,fy=2,interpolation=cv2.INTER_AREA)\n",
    "cv2.imshow('tab', scaled)\n",
    "cv2.waitKey()\n",
    "cv2.destroyAllWindows()"
   ]
  },
  {
   "cell_type": "code",
   "execution_count": 37,
   "id": "da9d1262",
   "metadata": {},
   "outputs": [],
   "source": [
    "scaled=cv2.resize(img,(400,400),fx=2,fy=2,interpolation=cv2.INTER_CUBIC)\n",
    "cv2.imshow('tab', scaled)\n",
    "cv2.waitKey()\n",
    "cv2.destroyAllWindows()"
   ]
  },
  {
   "cell_type": "markdown",
   "id": "bb1b80c1",
   "metadata": {},
   "source": [
    "## Cropping"
   ]
  },
  {
   "cell_type": "code",
   "execution_count": 39,
   "id": "5869deec",
   "metadata": {},
   "outputs": [],
   "source": [
    "cropped=img[0:300,0:500]\n",
    "cv2.imshow('tab', cropped)\n",
    "cv2.waitKey()\n",
    "cv2.destroyAllWindows()"
   ]
  },
  {
   "cell_type": "markdown",
   "id": "e4685c95",
   "metadata": {},
   "source": [
    "# Image Arithmatic"
   ]
  },
  {
   "cell_type": "markdown",
   "id": "2195fbff",
   "metadata": {},
   "source": [
    "## addition"
   ]
  },
  {
   "cell_type": "code",
   "execution_count": 48,
   "id": "886ba1f3",
   "metadata": {},
   "outputs": [
    {
     "name": "stdout",
     "output_type": "stream",
     "text": [
      "[[[200 200 200]\n",
      "  [200 200 200]\n",
      "  [200 200 200]\n",
      "  ...\n",
      "  [200 200 200]\n",
      "  [200 200 200]\n",
      "  [200 200 200]]\n",
      "\n",
      " [[200 200 200]\n",
      "  [200 200 200]\n",
      "  [200 200 200]\n",
      "  ...\n",
      "  [200 200 200]\n",
      "  [200 200 200]\n",
      "  [200 200 200]]\n",
      "\n",
      " [[200 200 200]\n",
      "  [200 200 200]\n",
      "  [200 200 200]\n",
      "  ...\n",
      "  [200 200 200]\n",
      "  [200 200 200]\n",
      "  [200 200 200]]\n",
      "\n",
      " ...\n",
      "\n",
      " [[200 200 200]\n",
      "  [200 200 200]\n",
      "  [200 200 200]\n",
      "  ...\n",
      "  [200 200 200]\n",
      "  [200 200 200]\n",
      "  [200 200 200]]\n",
      "\n",
      " [[200 200 200]\n",
      "  [200 200 200]\n",
      "  [200 200 200]\n",
      "  ...\n",
      "  [200 200 200]\n",
      "  [200 200 200]\n",
      "  [200 200 200]]\n",
      "\n",
      " [[200 200 200]\n",
      "  [200 200 200]\n",
      "  [200 200 200]\n",
      "  ...\n",
      "  [200 200 200]\n",
      "  [200 200 200]\n",
      "  [200 200 200]]]\n"
     ]
    }
   ],
   "source": [
    "add=np.ones(img.shape,dtype='uint8')*100\n",
    "print(add)"
   ]
  },
  {
   "cell_type": "code",
   "execution_count": 49,
   "id": "e3618ae0",
   "metadata": {},
   "outputs": [],
   "source": [
    "add_img=cv2.add(img,add)\n",
    "cv2.imshow('tab',add_img)\n",
    "cv2.waitKey()\n",
    "cv2.destroyAllWindows()"
   ]
  },
  {
   "cell_type": "code",
   "execution_count": 51,
   "id": "d75399da",
   "metadata": {},
   "outputs": [],
   "source": [
    "sub=np.ones(img.shape,dtype='uint8')*10\n",
    "sub_img=cv2.subtract(img,sub)\n",
    "cv2.imshow('tab',sub_img)\n",
    "cv2.waitKey()\n",
    "cv2.destroyAllWindows()"
   ]
  },
  {
   "cell_type": "markdown",
   "id": "3eeaa21b",
   "metadata": {},
   "source": [
    "# Bitwise Operation"
   ]
  },
  {
   "cell_type": "code",
   "execution_count": 59,
   "id": "f558493d",
   "metadata": {},
   "outputs": [],
   "source": [
    "rect=np.ones((400,400),dtype='uint8')\n",
    "cv2.rectangle(rect,(60,60),(320,320),255,-1)\n",
    "cv2.imshow('tab',rect)\n",
    "cv2.waitKey()\n",
    "cv2.destroyAllWindows()"
   ]
  },
  {
   "cell_type": "code",
   "execution_count": 60,
   "id": "98fe4953",
   "metadata": {},
   "outputs": [],
   "source": [
    "circle=np.ones((400,400),dtype='uint8')\n",
    "cv2.circle(circle,(200,200),200,255,-1)\n",
    "cv2.imshow('tab',circle)\n",
    "cv2.waitKey()\n",
    "cv2.destroyAllWindows()"
   ]
  },
  {
   "cell_type": "code",
   "execution_count": 61,
   "id": "ea52edb9",
   "metadata": {},
   "outputs": [],
   "source": [
    "bit_and=cv2.bitwise_and(rect,circle)\n",
    "cv2.imshow('tab',bit_and)\n",
    "cv2.waitKey()\n",
    "cv2.destroyAllWindows()"
   ]
  },
  {
   "cell_type": "code",
   "execution_count": 62,
   "id": "0575165e",
   "metadata": {},
   "outputs": [],
   "source": [
    "bit_or=cv2.bitwise_or(rect,circle)\n",
    "cv2.imshow('tab',bit_or)\n",
    "cv2.waitKey()\n",
    "cv2.destroyAllWindows()"
   ]
  },
  {
   "cell_type": "code",
   "execution_count": 63,
   "id": "1694c55e",
   "metadata": {},
   "outputs": [],
   "source": [
    "bit_not=cv2.bitwise_not(rect)\n",
    "cv2.imshow('tab',bit_not)\n",
    "cv2.waitKey()\n",
    "cv2.destroyAllWindows()"
   ]
  },
  {
   "cell_type": "code",
   "execution_count": 64,
   "id": "13f80c01",
   "metadata": {},
   "outputs": [],
   "source": [
    "bit_xor=cv2.bitwise_xor(rect,circle)\n",
    "cv2.imshow('tab',bit_xor)\n",
    "cv2.waitKey()\n",
    "cv2.destroyAllWindows()"
   ]
  },
  {
   "cell_type": "markdown",
   "id": "c79e910d",
   "metadata": {},
   "source": [
    "# Masking"
   ]
  },
  {
   "cell_type": "code",
   "execution_count": 77,
   "id": "7394748d",
   "metadata": {},
   "outputs": [],
   "source": [
    "mask = np.zeros(img.shape[:2],dtype='uint8')\n",
    "cv2.circle(mask,(img.shape[1]//2, img.shape[0]//2),100,255,-1)\n",
    "cv2.circle(mask,(10,10),50,170,-1)\n",
    "cv2.imshow('mask', mask)\n",
    "cv2.waitKey()\n",
    "cv2.destroyAllWindows()\n",
    "re_img=np.ones(img.shape,dtype='uint8')\n",
    "cv2.rectangle(re_img,(30,30),(450,450),255,-1)\n",
    "cv2.imshow('re', re_img)\n",
    "cv2.waitKey()\n",
    "cv2.destroyAllWindows()\n",
    "rrre=cv2.bitwise_and(img, re)\n",
    "cv2.imshow('rrre', rrre)\n",
    "cv2.waitKey()\n",
    "cv2.destroyAllWindows()\n",
    "cv2.bitwise_and(img, re,masked, mask = mask)\n",
    "cv2.imshow('mask', masked)\n",
    "cv2.waitKey()\n",
    "cv2.destroyAllWindows()"
   ]
  },
  {
   "cell_type": "markdown",
   "id": "7841d6fd",
   "metadata": {},
   "source": [
    "# Color Channel Splitting and Color spaces"
   ]
  },
  {
   "cell_type": "markdown",
   "id": "e6967dc3",
   "metadata": {},
   "source": [
    "## Color channel splitting"
   ]
  },
  {
   "cell_type": "code",
   "execution_count": 83,
   "id": "70b32328",
   "metadata": {},
   "outputs": [],
   "source": [
    "color_img=cv2.imread('Data/cv.jpg')\n",
    "b,g,r=cv2.split(color_img)\n",
    "cv2.imshow('raw',color_img)\n",
    "cv2.imshow('r',r)\n",
    "cv2.imshow('g',g)\n",
    "cv2.imshow('b',b)\n",
    "cv2.waitKey()\n",
    "cv2.destroyAllWindows()"
   ]
  },
  {
   "cell_type": "code",
   "execution_count": 84,
   "id": "83b45d95",
   "metadata": {},
   "outputs": [],
   "source": [
    "merged=cv2.merge([b,g,r])\n",
    "cv2.imshow('merged',merged)\n",
    "cv2.waitKey()\n",
    "cv2.destroyAllWindows()"
   ]
  },
  {
   "cell_type": "code",
   "execution_count": 86,
   "id": "c7968a4c",
   "metadata": {},
   "outputs": [],
   "source": [
    "zeros = np.zeros(color_img.shape[:2], dtype='uint8')\n",
    "cv2.imshow('red', cv2.merge([zeros, zeros,r]))\n",
    "cv2.imshow('green', cv2.merge([zeros,g,zeros]))\n",
    "cv2.imshow('blue',cv2.merge([b,zeros,zeros]))\n",
    "cv2.waitKey()\n",
    "cv2.destroyAllWindows()"
   ]
  },
  {
   "cell_type": "markdown",
   "id": "1040d304",
   "metadata": {},
   "source": [
    "## color spaces"
   ]
  },
  {
   "cell_type": "code",
   "execution_count": 87,
   "id": "a37bad64",
   "metadata": {},
   "outputs": [],
   "source": [
    "gray=cv2.cvtColor(color_img,cv2.COLOR_BGR2GRAY)\n",
    "hsv=cv2.cvtColor(color_img,cv2.COLOR_BGR2HSV)\n",
    "lab=cv2.cvtColor(color_img,cv2.COLOR_BGR2LAB)"
   ]
  },
  {
   "cell_type": "code",
   "execution_count": 88,
   "id": "e94bee41",
   "metadata": {},
   "outputs": [],
   "source": [
    "cv2.imshow('bulb', color_img)\n",
    "cv2.imshow('gray', gray)\n",
    "cv2.imshow('hsv', hsv)\n",
    "cv2.imshow('lab',lab)\n",
    "cv2.waitKey()\n",
    "cv2.destroyAllWindows()"
   ]
  },
  {
   "cell_type": "code",
   "execution_count": null,
   "id": "e213edd9",
   "metadata": {},
   "outputs": [],
   "source": []
  }
 ],
 "metadata": {
  "kernelspec": {
   "display_name": "Python 3",
   "language": "python",
   "name": "python3"
  },
  "language_info": {
   "codemirror_mode": {
    "name": "ipython",
    "version": 3
   },
   "file_extension": ".py",
   "mimetype": "text/x-python",
   "name": "python",
   "nbconvert_exporter": "python",
   "pygments_lexer": "ipython3",
   "version": "3.6.9"
  }
 },
 "nbformat": 4,
 "nbformat_minor": 5
}
